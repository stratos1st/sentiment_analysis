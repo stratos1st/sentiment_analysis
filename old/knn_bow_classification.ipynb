{
 "cells": [
  {
   "cell_type": "code",
   "execution_count": 1,
   "metadata": {},
   "outputs": [],
   "source": [
    "from sklearn.feature_extraction.text import CountVectorizer\n",
    "import pandas as pd\n",
    "import pickle\n",
    "\n",
    "# read tokens\n",
    "infile = open('filtered_tweets.pickle','rb')\n",
    "tokens = pickle.load(infile)\n",
    "infile.close()\n",
    "\n",
    "# # concatinate tokens. ending up with a filtered tweet\n",
    "tok=[]\n",
    "cent=[]\n",
    "for tweet in tokens:\n",
    "    tmp=''\n",
    "    for word in tweet[0]:\n",
    "        tmp=tmp+' '+word\n",
    "    tok.append(tmp)\n",
    "    cent.append(tweet[1])\n",
    "    \n",
    "bow_vectorizer = CountVectorizer(max_features=1000)\n",
    "bow_xtrain = bow_vectorizer.fit_transform(tok)\n",
    "\n",
    "# print(bow_xtrain.toarray())\n",
    "# print(bow_vectorizer.get_feature_names()) \n",
    "# print(bow_xtrain.shape)"
   ]
  },
  {
   "cell_type": "code",
   "execution_count": 2,
   "metadata": {},
   "outputs": [
    {
     "name": "stdout",
     "output_type": "stream",
     "text": [
      "0.40374930235607004\n"
     ]
    }
   ],
   "source": [
    "from sklearn import neighbors\n",
    "from sklearn.neighbors import NearestNeighbors\n",
    "from sklearn.metrics import f1_score\n",
    "from sklearn.model_selection import train_test_split\n",
    "import numpy\n",
    "\n",
    "xtrain_bow, xvalid_bow, ytrain, yvalid = train_test_split(bow_xtrain, cent, random_state=42, test_size=0.2)\n",
    "\n",
    "knn = neighbors.KNeighborsClassifier(n_jobs=4,algorithm='brute',weights='distance')\n",
    "knn = knn.fit(xtrain_bow, ytrain) # xtrain_bow:bag of words features for train data, ytrain: train data labels\n",
    "prediction = knn.predict(xvalid_bow) #predict on the validation set\n",
    "print(f1_score(yvalid, prediction,average='macro')) #evaluate on the validation set\n",
    "#0.40374930235607004"
   ]
  }
 ],
 "metadata": {
  "kernelspec": {
   "display_name": "Python 3",
   "language": "python",
   "name": "python3"
  },
  "language_info": {
   "codemirror_mode": {
    "name": "ipython",
    "version": 3
   },
   "file_extension": ".py",
   "mimetype": "text/x-python",
   "name": "python",
   "nbconvert_exporter": "python",
   "pygments_lexer": "ipython3",
   "version": "3.7.2"
  }
 },
 "nbformat": 4,
 "nbformat_minor": 2
}

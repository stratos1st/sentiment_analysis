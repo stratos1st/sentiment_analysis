{
 "cells": [
  {
   "cell_type": "code",
   "execution_count": 1,
   "metadata": {},
   "outputs": [],
   "source": [
    "#-------------------------------- LA8OS----------------------------"
   ]
  },
  {
   "cell_type": "code",
   "execution_count": 2,
   "metadata": {},
   "outputs": [],
   "source": [
    "from sklearn.feature_extraction.text import CountVectorizer\n",
    "import pandas as pd\n",
    "import pickle\n",
    "from sklearn.feature_extraction.text import TfidfVectorizer\n",
    "\n",
    "# read tokens\n",
    "infile = open('dh_tweet_vec.pickle','rb')\n",
    "tweet_vectors = pickle.load(infile)\n",
    "infile.close()\n",
    "\n",
    "dh_xtrain = tweet_vectors\n",
    "\n",
    "# print(bow_xtrain.toarray())\n",
    "# print(bow_vectorizer.get_feature_names()) \n",
    "# print(bow_xtrain.shape)"
   ]
  },
  {
   "cell_type": "code",
   "execution_count": 3,
   "metadata": {},
   "outputs": [],
   "source": [
    "# read data\n",
    "Location = r'/home/stratos/Desktop/ted_Project/twitter_data/train2017.tsv'\n",
    "df = pd.read_csv(Location, error_bad_lines=False,\n",
    "                 names=['no1','no2','cent','tweet'],sep='\\t')\n",
    "df=df[:-1]\n",
    "# ytrain=df.drop(columns=['no1','no2','tweet'])"
   ]
  },
  {
   "cell_type": "code",
   "execution_count": null,
   "metadata": {},
   "outputs": [],
   "source": [
    "from sklearn import svm\n",
    "from sklearn.metrics import f1_score\n",
    "from sklearn.model_selection import train_test_split\n",
    "import numpy\n",
    "\n",
    "xtrain_dh, xvalid_dh, ytrain, yvalid = train_test_split(dh_xtrain, df['cent'], random_state=42, test_size=0.2)\n",
    "\n",
    "svc = svm.SVC(kernel='linear', C=1, probability=True)\n",
    "svc = svc.fit(xtrain_dh, ytrain) # xtrain_bow:bag of words features for train data, ytrain: train data labels\n",
    "prediction = svc.predict(xvalid_dh) #predict on the validation set\n",
    "f1_score(yvalid, prediction,average='macro') #evaluate on the validation set"
   ]
  }
 ],
 "metadata": {
  "kernelspec": {
   "display_name": "Python 3",
   "language": "python",
   "name": "python3"
  },
  "language_info": {
   "codemirror_mode": {
    "name": "ipython",
    "version": 3
   },
   "file_extension": ".py",
   "mimetype": "text/x-python",
   "name": "python",
   "nbconvert_exporter": "python",
   "pygments_lexer": "ipython3",
   "version": "3.7.2"
  }
 },
 "nbformat": 4,
 "nbformat_minor": 2
}

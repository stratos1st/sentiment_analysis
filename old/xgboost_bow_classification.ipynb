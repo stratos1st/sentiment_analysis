{
 "cells": [
  {
   "cell_type": "code",
   "execution_count": 1,
   "metadata": {},
   "outputs": [],
   "source": [
    "from sklearn.feature_extraction.text import CountVectorizer\n",
    "import pandas as pd\n",
    "import pickle\n",
    "\n",
    "# read tokens\n",
    "infile = open('filtered_tweets.pickle','rb')\n",
    "tokens = pickle.load(infile)\n",
    "infile.close()\n",
    "\n",
    "# # concatinate tokens. ending up with a filtered tweet\n",
    "tok=[]\n",
    "for tweet in tokens:\n",
    "    tmp=''\n",
    "    for word in tweet:\n",
    "        tmp=tmp+' '+word\n",
    "    tok.append(tmp)\n",
    "tokens=tok\n",
    "\n",
    "bow_vectorizer = CountVectorizer(max_features=1000)\n",
    "bow_xtrain = bow_vectorizer.fit_transform(tokens)\n",
    "\n",
    "# print(bow_xtrain.toarray())\n",
    "# print(bow_vectorizer.get_feature_names()) \n",
    "# print(bow_xtrain.shape)"
   ]
  },
  {
   "cell_type": "code",
   "execution_count": 2,
   "metadata": {},
   "outputs": [],
   "source": [
    "# read data\n",
    "Location = r'/home/stratos/Desktop/ted_Project/twitter_data/train2017.tsv'\n",
    "df = pd.read_csv(Location, error_bad_lines=False,\n",
    "                 names=['no1','no2','cent','tweet'],sep='\\t')\n",
    "df=df[:-1]\n",
    "# ytrain=df.drop(columns=['no1','no2','tweet'])"
   ]
  },
  {
   "cell_type": "code",
   "execution_count": 3,
   "metadata": {},
   "outputs": [
    {
     "name": "stderr",
     "output_type": "stream",
     "text": [
      "/home/stratos/anaconda3/lib/python3.7/site-packages/sklearn/preprocessing/label.py:151: DeprecationWarning: The truth value of an empty array is ambiguous. Returning False, but in future this will result in an error. Use `array.size > 0` to check that an array is not empty.\n",
      "  if diff:\n"
     ]
    },
    {
     "data": {
      "text/plain": [
       "0.4682263619864087"
      ]
     },
     "execution_count": 3,
     "metadata": {},
     "output_type": "execute_result"
    }
   ],
   "source": [
    "from xgboost import XGBClassifier\n",
    "from sklearn.metrics import f1_score\n",
    "from sklearn.model_selection import train_test_split\n",
    "import numpy\n",
    "\n",
    "xtrain_bow, xvalid_bow, ytrain, yvalid = train_test_split(bow_xtrain, df['cent'], random_state=42, test_size=0.2)\n",
    "\n",
    "xgb = XGBClassifier()\n",
    "xgb.fit(xtrain_bow, ytrain)\n",
    "prediction = xgb.predict(xvalid_bow) #predict on the validation set\n",
    "f1_score(yvalid, prediction,average='macro') #evaluate on the validation set\n",
    "#0.4682263619864087"
   ]
  }
 ],
 "metadata": {
  "kernelspec": {
   "display_name": "Python 3",
   "language": "python",
   "name": "python3"
  },
  "language_info": {
   "codemirror_mode": {
    "name": "ipython",
    "version": 3
   },
   "file_extension": ".py",
   "mimetype": "text/x-python",
   "name": "python",
   "nbconvert_exporter": "python",
   "pygments_lexer": "ipython3",
   "version": "3.7.2"
  }
 },
 "nbformat": 4,
 "nbformat_minor": 2
}

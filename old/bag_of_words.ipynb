{
 "cells": [
  {
   "cell_type": "code",
   "execution_count": 1,
   "metadata": {},
   "outputs": [
    {
     "name": "stdout",
     "output_type": "stream",
     "text": [
      "[[0 0 0 ... 0 0 0]\n",
      " [0 0 0 ... 0 0 0]\n",
      " [0 0 0 ... 0 0 0]\n",
      " ...\n",
      " [0 0 0 ... 0 0 0]\n",
      " [0 0 0 ... 0 0 0]\n",
      " [0 0 0 ... 0 0 0]]\n",
      "['10', '100', '10th', '11', '11th', '12', '12th', '13', '13th', '14', '14th', '15', '15th', '16', '16th', '17', '17th', '18', '18th', '19', '19th', '1st', '20', '2012', '2013', '20th', '21', '21st', '22', '23', '24', '24th', '25', '25th', '26', '26th', '27', '27th', '28', '28th', '29th', '2nd', '30', '30th', '31', '31st', '3rd', '4th', '50', '5th', '6pm', '6th', '7pm', '7th', '8pm', '8th', '9th', 'aaron', 'abc', 'able', 'abt', 'acdc', 'act', 'action', 'actually', 'add', 'afternoon', 'ago', 'ah', 'ahead', 'air', 'album', 'almost', 'alone', 'along', 'already', 'also', 'always', 'amazing', 'amazon', 'america', 'american', 'amp', 'andy', 'angela', 'anniversary', 'announced', 'annual', 'another', 'answer', 'anyone', 'anything', 'anyway', 'app', 'apple', 'april', 'area', 'around', 'arsenal', 'art', 'ask', 'asked', 'ass', 'aug', 'august', 'available', 'award', 'awards', 'away', 'awesome', 'baby', 'back', 'bad', 'ball', 'band', 'barca', 'batman', 'bay', 'bbc', 'bc', 'bday', 'beach', 'beat', 'beautiful', 'beckham', 'bed', 'behind', 'believe', 'ben', 'bentley', 'bernie', 'best', 'bet', 'better', 'beyonce', 'biden', 'big', 'biggest', 'bill', 'birthday', 'bit', 'black', 'blog', 'blood', 'blue', 'bob', 'bobby', 'book', 'bought', 'bowl', 'boy', 'boys', 'break', 'breaking', 'brian', 'brilliant', 'bring', 'brother', 'brown', 'bulls', 'bus', 'bush', 'business', 'busy', 'buy', 'call', 'called', 'came', 'cameron', 'camp', 'campaign', 'cancelled', 'candy', 'cant', 'canu2019t', 'car', 'card', 'care', 'career', 'carey', 'carter', 'case', 'catch', 'cause', 'celebrate', 'center', 'central', 'centre', 'championship', 'chance', 'change', 'channel', 'check', 'chelsea', 'china', 'choice', 'chris', 'christmas', 'church', 'city', 'class', 'classic', 'close', 'club', 'cmon', 'coach', 'cobain', 'coffee', 'college', 'colts', 'come', 'comedy', 'comes', 'coming', 'concert', 'conference', 'confirmed', 'congrats', 'conor', 'cool', 'cos', 'could', 'country', 'course', 'cover', 'cowboys', 'crazy', 'cup', 'cut', 'da', 'dad', 'daily', 'dallas', 'damn', 'dance', 'date', 'david', 'day', 'days', 'dc', 'de', 'dead', 'deal', 'dear', 'death', 'debate', 'debut', 'dec', 'december', 'definitely', 'den', 'derby', 'details', 'didnt', 'digi', 'dinner', 'disney', 'disneyland', 'doesnt', 'donald', 'done', 'dont', 'donu2019t', 'download', 'dr', 'dream', 'dress', 'drive', 'drop', 'dude', 'due', 'dun', 'dunno', 'eagles', 'earlier', 'early', 'earth', 'east', 'eat', 'either', 'election', 'else', 'email', 'end', 'ends', 'england', 'enjoy', 'enough', 'episode', 'erdogan', 'eric', 'espn', 'etc', 'even', 'evening', 'event', 'ever', 'every', 'everyone', 'everything', 'excited', 'expect', 'extra', 'face', 'facebook', 'fact', 'fair', 'fall', 'family', 'fan', 'fans', 'far', 'fashion', 'fast', 'favorite', 'fb', 'feb', 'february', 'federer', 'feel', 'feeling', 'festival', 'field', 'fight', 'film', 'final', 'finally', 'find', 'fine', 'finish', 'finished', 'fire', 'first', 'five', 'fleetwood', 'floor', 'florida', 'follow', 'following', 'food', 'football', 'forget', 'forgot', 'form', 'forward', 'found', 'four', 'free', 'fri', 'friday', 'friend', 'friends', 'front', 'fuck', 'fucking', 'full', 'fun', 'funny', 'galaxy', 'game', 'games', 'gave', 'george', 'get', 'gets', 'getting', 'giants', 'girl', 'girls', 'give', 'giving', 'glad', 'go', 'goal', 'god', 'goes', 'goin', 'going', 'gon', 'gone', 'good', 'google', 'got', 'grade', 'grand', 'grateful', 'great', 'greatest', 'green', 'group', 'guess', 'guy', 'guys', 'ha', 'haha', 'hair', 'half', 'hall', 'halloween', 'hand', 'hannibal', 'happen', 'happy', 'hard', 'harper', 'harry', 'hate', 'havent', 'head', 'heading', 'hear', 'heard', 'heart', 'heat', 'hell', 'hello', 'help', 'heres', 'hes', 'hey', 'hi', 'high', 'hillary', 'history', 'hit', 'hold', 'holiday', 'home', 'hope', 'hopefully', 'hoping', 'host', 'hot', 'hotel', 'hour', 'hours', 'house', 'houston', 'huge', 'ibm', 'id', 'idea', 'ihop', 'ill', 'im', 'info', 'injury', 'instead', 'interested', 'interesting', 'international', 'interview', 'ios', 'ipad', 'iphone', 'ipod', 'isnt', 'italy', 'itu2019s', 'iu2019ll', 'iu2019m', 'ive', 'jackson', 'jam', 'james', 'jan', 'january', 'japan', 'jason', 'jayz', 'jeb', 'jennifer', 'jersey', 'jets', 'jim', 'jimmy', 'jindal', 'job', 'joe', 'john', 'join', 'jr', 'july', 'june', 'jurassic', 'justin', 'juventus', 'keep', 'kerry', 'kevin', 'kick', 'kid', 'kids', 'kind', 'kinda', 'king', 'knew', 'knicks', 'know', 'kurt', 'kyle', 'la', 'labor', 'ladies', 'lady', 'lakers', 'last', 'late', 'later', 'launch', 'lead', 'league', 'learn', 'least', 'leave', 'leaving', 'lee', 'left', 'leh', 'let', 'lets', 'lexus', 'liao', 'life', 'lights', 'like', 'line', 'link', 'lions', 'list', 'listen', 'listening', 'little', 'live', 'living', 'lllinkkk', 'lmao', 'lol', 'london', 'long', 'look', 'looking', 'looks', 'lor', 'lose', 'lost', 'lot', 'lots', 'love', 'loved', 'lovely', 'luck', 'lucky', 'lunch', 'mac', 'mad', 'made', 'madonna', 'madrid', 'magic', 'main', 'make', 'makes', 'making', 'man', 'many', 'mar', 'march', 'mariah', 'mark', 'market', 'marley', 'martin', 'match', 'matt', 'may', 'maybe', 'mcgregor', 'mean', 'means', 'media', 'meet', 'meeting', 'merkel', 'messi', 'met', 'metlife', 'miami', 'michael', 'microsoft', 'might', 'mike', 'mind', 'minutes', 'miss', 'missed', 'missing', 'mom', 'moment', 'mon', 'monday', 'money', 'month', 'months', 'moon', 'morning', 'move', 'movie', 'movies', 'moving', 'mr', 'much', 'murray', 'music', 'must', 'na', 'name', 'national', 'nba', 'near', 'need', 'needs', 'netflix', 'never', 'new', 'newcastle', 'news', 'next', 'nfl', 'nice', 'nick', 'night', 'nights', 'north', 'note', 'nothing', 'nov', 'november', 'number', 'ny', 'nyc', 'obama', 'oct', 'october', 'office', 'official', 'oh', 'ok', 'okay', 'old', 'omg', 'one', 'online', 'open', 'opening', 'order', 'others', 'outside', 'parade', 'paris', 'park', 'part', 'party', 'pass', 'past', 'paul', 'pay', 'peace', 'people', 'perfect', 'performance', 'performing', 'person', 'phone', 'photo', 'pick', 'picture', 'place', 'plan', 'plans', 'play', 'played', 'player', 'players', 'playing', 'plays', 'please', 'plus', 'pm', 'point', 'points', 'police', 'positive', 'possible', 'post', 'posted', 'potter', 'power', 'practice', 'president', 'pretty', 'preview', 'price', 'prime', 'pro', 'probably', 'problem', 'project', 'proud', 'put', 'quarter', 'question', 'quite', 'race', 'radio', 'rain', 'read', 'reading', 'ready', 'real', 'really', 'reason', 'record', 'red', 'release', 'released', 'remember', 'report', 'rest', 'return', 'right', 'rite', 'road', 'rock', 'rodgers', 'room', 'rose', 'round', 'row', 'rt', 'rugby', 'run', 'running', 'sad', 'safe', 'said', 'sale', 'samsung', 'san', 'sanders', 'sat', 'saturday', 'saw', 'say', 'saying', 'says', 'school', 'score', 'scored', 'season', 'second', 'see', 'seeing', 'seems', 'seen', 'send', 'sep', 'sept', 'september', 'series', 'service', 'set', 'shall', 'share', 'shes', 'shirt', 'shit', 'shop', 'shopping', 'short', 'shot', 'show', 'shows', 'sick', 'side', 'sign', 'signed', 'since', 'single', 'sitting', 'sky', 'sleep', 'soccer', 'social', 'someone', 'something', 'son', 'song', 'songs', 'soon', 'sorry', 'sound', 'sounds', 'south', 'special', 'spend', 'spent', 'sports', 'spurs', 'st', 'stadium', 'stage', 'stand', 'star', 'stars', 'start', 'started', 'starting', 'starts', 'state', 'stay', 'steelers', 'steve', 'still', 'stone', 'stop', 'store', 'story', 'straight', 'street', 'strong', 'stuff', 'summer', 'sun', 'sunday', 'sundays', 'super', 'support', 'sure', 'sweet', 'ta', 'take', 'taken', 'takes', 'taking', 'talk', 'talking', 'talks', 'taylor', 'team', 'teams', 'tech', 'teen', 'tell', 'test', 'texas', 'thank', 'thanks', 'thanksgiving', 'thats', 'theatre', 'theres', 'theyre', 'thing', 'things', 'think', 'thinking', 'tho', 'though', 'thought', 'three', 'thrones', 'thurs', 'thursday', 'ticket', 'tickets', 'til', 'till', 'tim', 'time', 'times', 'tired', 'title', 'tix', 'tmr', 'today', 'todays', 'together', 'told', 'tom', 'tomorrow', 'tomorrows', 'tomorrowu002c', 'tonight', 'took', 'top', 'tour', 'town', 'train', 'trip', 'true', 'trump', 'try', 'trying', 'tues', 'tuesday', 'turn', 'tv', 'tweet', 'twitter', 'two', 'u002c', 'ufc', 'uk', 'united', 'update', 'ur', 'us', 'usa', 'use', 'used', 'using', 'valentines', 'vegas', 'via', 'video', 'visit', 'vote', 'vs', 'wait', 'waiting', 'wake', 'walk', 'wan', 'want', 'wanted', 'wants', 'washington', 'wasnt', 'wat', 'watch', 'watched', 'watching', 'way', 'wear', 'weather', 'wed', 'wednesday', 'week', 'weekend', 'weeks', 'welcome', 'well', 'went', 'west', 'whats', 'whether', 'white', 'whole', 'whos', 'wife', 'williams', 'win', 'winning', 'wins', 'winter', 'wish', 'without', 'woman', 'wonder', 'wont', 'word', 'work', 'working', 'world', 'worst', 'worth', 'would', 'wow', 'write', 'wrong', 'xd', 'xx', 'xxl', 'ya', 'yall', 'yay', 'yeah', 'year', 'years', 'yes', 'yesterday', 'yet', 'yo', 'york', 'youll', 'young', 'youre', 'youtube', 'yr']\n",
      "(27957, 1000)\n"
     ]
    }
   ],
   "source": [
    "from sklearn.feature_extraction.text import CountVectorizer\n",
    "import pandas as pd\n",
    "import pickle\n",
    "\n",
    "# read tokens\n",
    "infile = open('lemmatized_tweets.pickle','rb')\n",
    "tokens = pickle.load(infile)\n",
    "infile.close()\n",
    "\n",
    "# # concatinate tokens. ending up with a filtered tweet\n",
    "tok=[]\n",
    "for tweet in tokens:\n",
    "    tmp=''\n",
    "    for word in tweet:\n",
    "        tmp=tmp+' '+word\n",
    "    tok.append(tmp)\n",
    "tokens=tok\n",
    "\n",
    "bow_vectorizer = CountVectorizer(max_features=1000)\n",
    "bow_xtrain = bow_vectorizer.fit_transform(tokens)\n",
    "\n",
    "print(bow_xtrain.toarray())\n",
    "print(bow_vectorizer.get_feature_names()) \n",
    "print(bow_xtrain.shape)"
   ]
  }
 ],
 "metadata": {
  "kernelspec": {
   "display_name": "Python 3",
   "language": "python",
   "name": "python3"
  },
  "language_info": {
   "codemirror_mode": {
    "name": "ipython",
    "version": 3
   },
   "file_extension": ".py",
   "mimetype": "text/x-python",
   "name": "python",
   "nbconvert_exporter": "python",
   "pygments_lexer": "ipython3",
   "version": "3.7.2"
  }
 },
 "nbformat": 4,
 "nbformat_minor": 2
}

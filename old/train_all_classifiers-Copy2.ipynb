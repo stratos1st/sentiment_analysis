{
 "cells": [
  {
   "cell_type": "code",
   "execution_count": 1,
   "metadata": {},
   "outputs": [],
   "source": [
    "#perni ora na treksi XGBClassifier"
   ]
  },
  {
   "cell_type": "code",
   "execution_count": 2,
   "metadata": {},
   "outputs": [
    {
     "name": "stderr",
     "output_type": "stream",
     "text": [
      "/home/stratos/anaconda3/lib/python3.7/site-packages/sklearn/ensemble/weight_boosting.py:29: DeprecationWarning: numpy.core.umath_tests is an internal NumPy module and should not be imported. It will be removed in a future NumPy release.\n",
      "  from numpy.core.umath_tests import inner1d\n"
     ]
    },
    {
     "name": "stdout",
     "output_type": "stream",
     "text": [
      "KNeighborsClassifier_CountVectorizer_1500.pickle done\n"
     ]
    },
    {
     "name": "stderr",
     "output_type": "stream",
     "text": [
      "/home/stratos/anaconda3/lib/python3.7/site-packages/sklearn/linear_model/logistic.py:1232: UserWarning: 'n_jobs' > 1 does not have any effect when 'solver' is set to 'liblinear'. Got 'n_jobs' = 4.\n",
      "  \" = {}.\".format(self.n_jobs))\n"
     ]
    },
    {
     "name": "stdout",
     "output_type": "stream",
     "text": [
      "LogisticRegression_CountVectorizer_1500.pickle done\n",
      "RandomForestClassifier_CountVectorizer_1500.pickle done\n",
      "SVC_CountVectorizer_1500.pickle done\n",
      "XGBClassifier_CountVectorizer_1500.pickle done\n",
      "KNeighborsClassifier_TfidfVectorizer_1500.pickle done\n"
     ]
    },
    {
     "name": "stderr",
     "output_type": "stream",
     "text": [
      "/home/stratos/anaconda3/lib/python3.7/site-packages/sklearn/linear_model/logistic.py:1232: UserWarning: 'n_jobs' > 1 does not have any effect when 'solver' is set to 'liblinear'. Got 'n_jobs' = 4.\n",
      "  \" = {}.\".format(self.n_jobs))\n"
     ]
    },
    {
     "name": "stdout",
     "output_type": "stream",
     "text": [
      "LogisticRegression_TfidfVectorizer_1500.pickle done\n",
      "RandomForestClassifier_TfidfVectorizer_1500.pickle done\n",
      "SVC_TfidfVectorizer_1500.pickle done\n",
      "XGBClassifier_TfidfVectorizer_1500.pickle done\n",
      "ALL DONE\n"
     ]
    }
   ],
   "source": [
    "# import warnings\n",
    "# warnings.filterwarnings(\"ignore\")\n",
    "\n",
    "from sklearn.feature_extraction.text import CountVectorizer\n",
    "from sklearn.feature_extraction.text import TfidfVectorizer\n",
    "\n",
    "from sklearn.ensemble import RandomForestClassifier\n",
    "from sklearn import neighbors\n",
    "from sklearn.neighbors import NearestNeighbors\n",
    "from sklearn.linear_model import LogisticRegression\n",
    "from sklearn.ensemble import RandomForestClassifier\n",
    "from sklearn import svm\n",
    "from xgboost import XGBClassifier\n",
    "\n",
    "import pandas as pd\n",
    "import pickle\n",
    "from sklearn.metrics import f1_score\n",
    "from sklearn.model_selection import train_test_split\n",
    "import numpy    \n",
    "    \n",
    "# read tokens\n",
    "infile = open('lemmatized_tweets.pickle','rb')\n",
    "tokens = pickle.load(infile)\n",
    "infile.close()\n",
    "\n",
    "# # concatinate tokens. ending up with a filtered tweet\n",
    "tok=[]\n",
    "for tweet in tokens:\n",
    "    tmp=''\n",
    "    for word in tweet:\n",
    "        tmp=tmp+' '+word\n",
    "    tok.append(tmp)\n",
    "tokens=tok\n",
    "\n",
    "# read data\n",
    "Location = r'/home/stratos/Desktop/ted_Project/twitter_data/train2017.tsv'\n",
    "df = pd.read_csv(Location, error_bad_lines=False,\n",
    "                 names=['no1','no2','cent','tweet'],sep='\\t')\n",
    "df=df[:-1]\n",
    "# ytrain=df.drop(columns=['no1','no2','tweet'])\n",
    "\n",
    "test_vectori=[\n",
    "    [CountVectorizer(max_features=1500)],\n",
    "    [TfidfVectorizer(max_features=1500)]\n",
    "]\n",
    "\n",
    "test=[\n",
    "    [neighbors.KNeighborsClassifier(n_jobs=4,algorithm='brute',weights='distance')],\n",
    "    [LogisticRegression(n_jobs=4)],\n",
    "    [RandomForestClassifier(n_jobs=4,n_estimators=250)],\n",
    "    [svm.SVC(kernel='linear', C=1, probability=True)],\n",
    "    [XGBClassifier()]\n",
    "]\n",
    "\n",
    "\n",
    "test1=[x+test_vectori[0] for x in test]\n",
    "test2=[x+test_vectori[1] for x in test]\n",
    "\n",
    "test=test1+test2 \n",
    "\n",
    "for classifier, vectori in test:\n",
    "    _vectorizer = vectori\n",
    "    _xtrain = _vectorizer.fit_transform(tokens)\n",
    "\n",
    "    classi = classifier\n",
    "    classi = classi.fit(_xtrain, df['cent']) # xtrain_bow:bag of words features for train data, ytrain: train data labels\n",
    "    \n",
    "    file_name=classifier.__class__.__qualname__ +\"_\"+vectori.__class__.__qualname__+\"_1500.pickle\"\n",
    "    # save classifier\n",
    "    outfile=open(file_name,'wb')\n",
    "    pickle.dump(classi,outfile)\n",
    "    outfile.close()\n",
    "    print(file_name+\" done\")\n",
    "print(\"ALL DONE\")"
   ]
  }
 ],
 "metadata": {
  "kernelspec": {
   "display_name": "Python 3",
   "language": "python",
   "name": "python3"
  },
  "language_info": {
   "codemirror_mode": {
    "name": "ipython",
    "version": 3
   },
   "file_extension": ".py",
   "mimetype": "text/x-python",
   "name": "python",
   "nbconvert_exporter": "python",
   "pygments_lexer": "ipython3",
   "version": "3.7.2"
  }
 },
 "nbformat": 4,
 "nbformat_minor": 2
}

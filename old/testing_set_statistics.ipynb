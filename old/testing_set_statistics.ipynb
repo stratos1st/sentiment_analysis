{
 "cells": [
  {
   "cell_type": "code",
   "execution_count": 1,
   "metadata": {},
   "outputs": [],
   "source": [
    "#perni ora na treksi ο XGBClassifier"
   ]
  },
  {
   "cell_type": "code",
   "execution_count": 2,
   "metadata": {},
   "outputs": [
    {
     "name": "stderr",
     "output_type": "stream",
     "text": [
      "/home/stratos/anaconda3/lib/python3.7/site-packages/sklearn/ensemble/weight_boosting.py:29: DeprecationWarning: numpy.core.umath_tests is an internal NumPy module and should not be imported. It will be removed in a future NumPy release.\n",
      "  from numpy.core.umath_tests import inner1d\n"
     ]
    },
    {
     "name": "stdout",
     "output_type": "stream",
     "text": [
      "classifier= SVC\tvectorizer= TfidfVectorizer\tscore=  0.3396889035914267\n"
     ]
    }
   ],
   "source": [
    "import warnings\n",
    "warnings.filterwarnings(\"ignore\")\n",
    "\n",
    "from sklearn.feature_extraction.text import CountVectorizer\n",
    "from sklearn.feature_extraction.text import TfidfVectorizer\n",
    "\n",
    "from sklearn.ensemble import RandomForestClassifier\n",
    "from sklearn import neighbors\n",
    "from sklearn.neighbors import NearestNeighbors\n",
    "from sklearn.linear_model import LogisticRegression\n",
    "from sklearn.ensemble import RandomForestClassifier\n",
    "from sklearn import svm\n",
    "from xgboost import XGBClassifier\n",
    "\n",
    "import pandas as pd\n",
    "import pickle\n",
    "from sklearn.metrics import f1_score\n",
    "from sklearn.model_selection import train_test_split\n",
    "import numpy    \n",
    "    \n",
    "# read tokens\n",
    "infile = open('filtered_tweets_test.pickle','rb')\n",
    "tokens = pickle.load(infile)\n",
    "infile.close()\n",
    "\n",
    "# # concatinate tokens. ending up with a filtered tweet\n",
    "tok=[]\n",
    "cent=[]\n",
    "for tweet in tokens:\n",
    "    tmp=''\n",
    "    for word in tweet[0]:\n",
    "        tmp=tmp+' '+word\n",
    "    tok.append(tmp)\n",
    "    cent.append(tweet[1])\n",
    "    \n",
    "# read data\n",
    "Location = r'/home/stratos/Desktop/ted_Project/twitter_data/SemEval2017_task4_subtaskA_test_english_gold.txt'\n",
    "df = pd.read_csv(Location, error_bad_lines=False,\n",
    "                 names=['no1','cent'],sep='\\t')\n",
    "# df=df[:-1]\n",
    "\n",
    "sz=5000\n",
    "attributes=3000\n",
    "\n",
    "\n",
    "test_vectori=[\n",
    "#     [CountVectorizer(max_features=attributes)],\n",
    "    [TfidfVectorizer(max_features=attributes)]\n",
    "]\n",
    "\n",
    "test=[\n",
    "#     [neighbors.KNeighborsClassifier(n_jobs=4,algorithm='brute',weights='distance')],\n",
    "#     [LogisticRegression(n_jobs=4)],\n",
    "#     [RandomForestClassifier(n_jobs=4,n_estimators=250)],\n",
    "    [svm.SVC(kernel='linear', C=1, probability=True)],\n",
    "#     [XGBClassifier()]\n",
    "]\n",
    "\n",
    "\n",
    "test1=[x+test_vectori[0] for x in test]\n",
    "# test2=[x+test_vectori[1] for x in test]\n",
    "\n",
    "test=test1#+test2\n",
    "\n",
    "for classifier, vectori in test:\n",
    "    _vectorizer = vectori\n",
    "    _xtrain = _vectorizer.fit_transform(tok)\n",
    "\n",
    "    file_name=classifier.__class__.__qualname__ +\"_\"+vectori.__class__.__qualname__+\"_\"+str(attributes)+\".pickle\"\n",
    "    # read trained classifier\n",
    "    infile = open(file_name,'rb')\n",
    "    classi = pickle.load(infile)\n",
    "    infile.close()\n",
    "    \n",
    "    prediction = classi.predict(_xtrain[:sz]) #predict on the validation set\n",
    "    print(\"classifier= \"+classifier.__class__.__qualname__ +\"\\tvectorizer= \"+vectori.__class__.__qualname__+\"\\tscore= \",end=\" \")\n",
    "    print(f1_score(df['cent'][:sz], prediction,average='macro'))#evaluate on the validation set\n",
    "\n"
   ]
  }
 ],
 "metadata": {
  "kernelspec": {
   "display_name": "Python 3",
   "language": "python",
   "name": "python3"
  },
  "language_info": {
   "codemirror_mode": {
    "name": "ipython",
    "version": 3
   },
   "file_extension": ".py",
   "mimetype": "text/x-python",
   "name": "python",
   "nbconvert_exporter": "python",
   "pygments_lexer": "ipython3",
   "version": "3.7.2"
  }
 },
 "nbformat": 4,
 "nbformat_minor": 2
}

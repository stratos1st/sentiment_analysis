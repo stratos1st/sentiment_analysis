{
 "cells": [
  {
   "cell_type": "code",
   "execution_count": 1,
   "metadata": {},
   "outputs": [
    {
     "name": "stdout",
     "output_type": "stream",
     "text": [
      "Training for 1000 ended\n",
      "1000 features train score= 0.6304543818272924\n",
      "1000 features test score= 0.3467297411101688\n",
      "Training for 1500 ended\n",
      "1500 features train score= 0.6568595182458764\n",
      "1500 features test score= 0.314260575444052\n",
      "Training for 3000 ended\n",
      "3000 features train score= 0.7076670156511237\n",
      "3000 features test score= 0.3278218607755385\n",
      "END\n"
     ]
    }
   ],
   "source": [
    "from sklearn.feature_extraction.text import CountVectorizer\n",
    "from nltk.corpus import stopwords\n",
    "import pickle\n",
    "from sklearn.linear_model import LogisticRegression\n",
    "from sklearn.metrics import f1_score\n",
    "import numpy as np\n",
    "\n",
    "# read cent train\n",
    "infile = open('cent_train.pickle','rb')\n",
    "cent_train = pickle.load(infile)\n",
    "infile.close()\n",
    "\n",
    "# read tweets train\n",
    "infile = open('stemmed_tweets_train.pickle','rb')\n",
    "tweets_train = pickle.load(infile)\n",
    "infile.close()\n",
    "\n",
    "\n",
    "# read cent test\n",
    "infile = open('cent_test.pickle','rb')\n",
    "cent_test = pickle.load(infile)\n",
    "infile.close()\n",
    "\n",
    "# read tweets test\n",
    "infile = open('stemmed_tweets_test.pickle','rb')\n",
    "tweets_test = pickle.load(infile)\n",
    "infile.close()\n",
    "\n",
    "# # read tokens\n",
    "# infile = open('lemmatized_tweets_train.pickle','rb')\n",
    "# tweets = pickle.load(infile)\n",
    "# infile.close()\n",
    "\n",
    "for features in [1000,1500,3000]:\n",
    "    bow_vectorizer = CountVectorizer(max_features=features,stop_words='english')\n",
    "#     bow_xtrain = bow_vectorizer.fit_transform(tweets_train)\n",
    "\n",
    "#     lr = LogisticRegression(n_jobs=4)\n",
    "#     lr = lr.fit(bow_xtrain.toarray(), cent_train)\n",
    "\n",
    "#     # save classifier\n",
    "#     outfile=open(\"LogisticRegression_bow_\"+str(features)+\".pickle\",'wb')\n",
    "#     pickle.dump(lr,outfile)\n",
    "#     outfile.close()\n",
    "\n",
    "    # read classifier\n",
    "    infile = open(\"LogisticRegression_bow_\"+str(features)+\".pickle\",'rb')\n",
    "    lr = pickle.load(infile)\n",
    "    infile.close()\n",
    "\n",
    "    print(\"Training for \"+str(features)+\" ended\")\n",
    "    \n",
    "    bow_xtrain = bow_vectorizer.fit_transform(tweets_train)\n",
    "    prediction = lr.predict(bow_xtrain.toarray()) #predict on the validation set\n",
    "    print(str(features)+\" features train score= \"+str(f1_score(np.asarray(cent_train),prediction.flatten(),average='macro'))) #evaluate on the validation set\n",
    "    \n",
    "    bow_xtrain = bow_vectorizer.fit_transform(tweets_test)\n",
    "    prediction = lr.predict(bow_xtrain.toarray()) #predict on the validation set\n",
    "    print(str(features)+\" features test score= \"+str(f1_score(np.asarray(cent_test),prediction.flatten(),average='macro'))) #evaluate on the validation set\n",
    "print(\"END\")"
   ]
  }
 ],
 "metadata": {
  "kernelspec": {
   "display_name": "Python 3",
   "language": "python",
   "name": "python3"
  },
  "language_info": {
   "codemirror_mode": {
    "name": "ipython",
    "version": 3
   },
   "file_extension": ".py",
   "mimetype": "text/x-python",
   "name": "python",
   "nbconvert_exporter": "python",
   "pygments_lexer": "ipython3",
   "version": "3.7.2"
  }
 },
 "nbformat": 4,
 "nbformat_minor": 2
}
